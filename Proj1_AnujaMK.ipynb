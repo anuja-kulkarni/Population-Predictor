{
 "cells": [
  {
   "cell_type": "markdown",
   "id": "8fc946f0",
   "metadata": {},
   "source": [
    "### Required Libraries are imported:"
   ]
  },
  {
   "cell_type": "code",
   "execution_count": 1,
   "id": "a87b3085",
   "metadata": {},
   "outputs": [],
   "source": [
    "import pandas as pd\n",
    "import matplotlib.pyplot as plt\n",
    "import numpy as np\n",
    "import math\n",
    "import warnings\n",
    "warnings.filterwarnings(\"ignore\")\n",
    "from sklearn.linear_model import LinearRegression, Ridge\n",
    "from sklearn.preprocessing import PolynomialFeatures, StandardScaler\n",
    "from sklearn.model_selection import KFold\n",
    "from sklearn.metrics import mean_squared_error\n"
   ]
  },
  {
   "cell_type": "markdown",
   "id": "5c0d0e3f",
   "metadata": {},
   "source": [
    "### Fetch train and test data from input files"
   ]
  },
  {
   "cell_type": "code",
   "execution_count": 2,
   "id": "ec949cb1",
   "metadata": {},
   "outputs": [],
   "source": [
    "df_train = pd.read_csv('train.dat',sep=\" \",header = None)\n",
    "df_train = df_train.rename(columns={0: 'Year', 1: 'Population'})\n",
    "arr_year = df_train['Year'].to_numpy().reshape(-1,1)\n",
    "arr_population = df_train['Population'].to_numpy().reshape(-1,1)\n",
    "df_test = pd.read_csv('test.dat',sep=\" \",header = None) \n",
    "df_test = df_test.rename(columns={0: 'Year', 1: 'Population'})\n",
    "test_arr_year = df_test['Year'].to_numpy().reshape(-1,1)\n",
    "test_arr_population = df_test['Population'].to_numpy().reshape(-1,1)"
   ]
  },
  {
   "cell_type": "markdown",
   "id": "3c15bbd4",
   "metadata": {},
   "source": [
    "### Load train & test data and split into features and target variable, creating kf variable for k-fold validation"
   ]
  },
  {
   "cell_type": "code",
   "execution_count": 3,
   "id": "e92650c5",
   "metadata": {},
   "outputs": [],
   "source": [
    " \n",
    "X = arr_year\n",
    "y = arr_population\n",
    "\n",
    "X_test = test_arr_year\n",
    "y_test = test_arr_population\n",
    "\n",
    "kf = KFold(n_splits = 6)"
   ]
  },
  {
   "cell_type": "markdown",
   "id": "6d851f4f",
   "metadata": {},
   "source": [
    "### Average RMSE calculation"
   ]
  },
  {
   "cell_type": "code",
   "execution_count": 4,
   "id": "399f867d",
   "metadata": {},
   "outputs": [],
   "source": [
    "degrees = [0, 1, 2, 3, 4, 5, 6, 7, 8, 9, 10, 11, 12] \n",
    "\n",
    "e = math.e \n",
    "alphas = [0, e ** -25, e ** -20, e ** -14, e ** -7, e ** -3, 1, e ** 3, e **7]\n",
    "rmse_list = []\n",
    "avg_rmse_list = []\n",
    "\n",
    "rmse_list_train = []\n",
    "avg_rmse_list_train = []\n",
    "for degree in degrees:\n",
    "    rmse_scores = []\n",
    "    avg_rmse = 0\n",
    "    \n",
    "    rmse_scores_train = []\n",
    "    avg_rmse_train = 0\n",
    "  \n",
    "    for train_index, val_index in kf.split(X):\n",
    "        # Split the data into training and testing sets\n",
    "        X_train, X_Val = X[train_index], X[val_index]\n",
    "        y_train, y_Val = y[train_index], y[val_index]\n",
    "        \n",
    "        # Standardize the Input Feature and Target Variable\n",
    "        scaler = StandardScaler()\n",
    "        X_train_scaled = scaler.fit_transform(X_train)\n",
    "        X_Val_scaled = scaler.transform(X_Val)\n",
    "        \n",
    "        y_train_scaled = scaler.transform(y_train)\n",
    "        y_Val_scaled = scaler.transform(y_Val)\n",
    "        \n",
    "        # Create polynomial features\n",
    "        poly = PolynomialFeatures(degree=degree)\n",
    "        X_train_poly = poly.fit_transform(X_train_scaled)\n",
    "        X_Val_poly = poly.transform(X_Val_scaled)\n",
    "        \n",
    "        # Fit a linear regression model\n",
    "        model = LinearRegression()\n",
    "        model.fit(X_train_poly, y_train_scaled)\n",
    "\n",
    "        # Make predictions on the Validation test set\n",
    "        y_pred_Val = model.predict(X_Val_poly)\n",
    "        y_pred_Val_inv = scaler.inverse_transform(y_pred_Val)\n",
    "        \n",
    "        # Make predictions on the Train set\n",
    "        y_pred_train = model.predict(X_train_poly)\n",
    "        y_pred_train_inv = scaler.inverse_transform(y_pred_train)\n",
    "\n",
    "        # Calculate the RMSE score for this fold\n",
    "        rmse = np.sqrt(mean_squared_error(y_Val, y_pred_Val_inv))\n",
    "        rmse_scores.append(rmse)\n",
    "        \n",
    "        rmse_train = np.sqrt(mean_squared_error(y_train, y_pred_train_inv))\n",
    "        rmse_scores_train.append(rmse_train)\n",
    "        \n",
    "        # Add the RMSE score to the average\n",
    "        avg_rmse += rmse\n",
    "        avg_rmse_train += rmse_train\n",
    "\n",
    "    #these are the errorson the Val set of the training data\n",
    "    avg_rmse /= 6\n",
    "    rmse_list.append(rmse_scores)\n",
    "    avg_rmse_list.append(avg_rmse)\n",
    "    \n",
    "    avg_rmse_train /= 6\n",
    "    rmse_list_train.append(rmse_scores_train)\n",
    "    avg_rmse_list_train.append(avg_rmse_train)"
   ]
  },
  {
   "cell_type": "code",
   "execution_count": 5,
   "id": "5de8fb50",
   "metadata": {},
   "outputs": [
    {
     "data": {
      "text/plain": [
       "[1.0155605589710903,\n",
       " 1.0835561617376517,\n",
       " 0.775429312351389,\n",
       " 0.783001685381381,\n",
       " 0.4934818442564542,\n",
       " 0.5701350133901181,\n",
       " 0.14235262539341406,\n",
       " 0.18750847543431556,\n",
       " 0.14631007436529722,\n",
       " 0.23647291096697423,\n",
       " 0.1648808000316062,\n",
       " 0.6257835760348929,\n",
       " 0.6869783309072318]"
      ]
     },
     "execution_count": 5,
     "metadata": {},
     "output_type": "execute_result"
    }
   ],
   "source": [
    "avg_rmse_list"
   ]
  },
  {
   "cell_type": "markdown",
   "id": "11a3da06",
   "metadata": {},
   "source": [
    "###  finding degree with the minimum avg_rsme.\n"
   ]
  },
  {
   "cell_type": "code",
   "execution_count": 6,
   "id": "608a171f",
   "metadata": {},
   "outputs": [
    {
     "data": {
      "text/plain": [
       "6"
      ]
     },
     "execution_count": 6,
     "metadata": {},
     "output_type": "execute_result"
    }
   ],
   "source": [
    "min(range(len(avg_rmse_list)), key=lambda x : avg_rmse_list[x])"
   ]
  },
  {
   "cell_type": "markdown",
   "id": "9e8f63cc",
   "metadata": {},
   "source": [
    "### Plotting Graph1 - Avg RMSE vs. Degrees"
   ]
  },
  {
   "cell_type": "code",
   "execution_count": 7,
   "id": "7c95423a",
   "metadata": {},
   "outputs": [
    {
     "data": {
      "image/png": "[encoded data removed]",
      "text/plain": [
       "<Figure size 720x432 with 1 Axes>"
      ]
     },
     "metadata": {
      "needs_background": "light"
     },
     "output_type": "display_data"
    }
   ],
   "source": [
    "plt.figure(figsize=(10, 6))   \n",
    "plt.title(\"Graph 1: Avg RMSE vs.Degrees\", size=16)\n",
    "plt.scatter(degrees, avg_rmse_list)\n",
    "plt.plot(degrees, avg_rmse_list, c=\"red\", label='CV_test')\n",
    "plt.scatter(degrees, avg_rmse_list_train)\n",
    "plt.plot(degrees, avg_rmse_list_train, c=\"green\", label='CV_train')\n",
    "plt.ylabel(\"Avg. RMSE\")\n",
    "plt.xlabel(\"Degrees\")\n",
    "location = 0\n",
    "plt.legend()\n",
    "plt.show()"
   ]
  },
  {
   "cell_type": "markdown",
   "id": "80992428",
   "metadata": {},
   "source": [
    "### Ridge Regression"
   ]
  },
  {
   "cell_type": "code",
   "execution_count": 8,
   "id": "5fa18572",
   "metadata": {},
   "outputs": [],
   "source": [
    "rmse_list = []\n",
    "avg_rmse_list = []\n",
    "\n",
    "rmse_list_train = []\n",
    "avg_rmse_list_train = []\n",
    "for alpha in alphas:\n",
    "    rmse_scores = []\n",
    "    avg_rmse = 0\n",
    "    \n",
    "    rmse_scores_train = []\n",
    "    avg_rmse_train = 0\n",
    "  \n",
    "    for train_index, val_index in kf.split(X):\n",
    "        # Split the data into training and testing sets\n",
    "        X_train, X_Val = X[train_index], X[val_index]\n",
    "        y_train, y_Val = y[train_index], y[val_index]\n",
    "        \n",
    "        # Standardize the Input Feature and Target Variable\n",
    "        scaler = StandardScaler()\n",
    "        X_train_scaled = scaler.fit_transform(X_train)\n",
    "        X_Val_scaled = scaler.transform(X_Val)\n",
    "        \n",
    "        y_train_scaled = scaler.transform(y_train)\n",
    "        y_Val_scaled = scaler.transform(y_Val)\n",
    "        \n",
    "        # Create polynomial features\n",
    "        poly = PolynomialFeatures(degree=12)\n",
    "        X_train_poly = poly.fit_transform(X_train_scaled)\n",
    "        X_Val_poly = poly.transform(X_Val_scaled)\n",
    "        \n",
    "        # Fit a linear regression model\n",
    "        model = Ridge(alpha=alpha)\n",
    "        model.fit(X_train_poly, y_train_scaled)\n",
    "\n",
    "        # Make predictions on the Validation test set\n",
    "        y_pred_Val = model.predict(X_Val_poly)\n",
    "        y_pred_Val_inv = scaler.inverse_transform(y_pred_Val)\n",
    "        \n",
    "        # Make predictions on the Train set\n",
    "        y_pred_train = model.predict(X_train_poly)\n",
    "        y_pred_train_inv = scaler.inverse_transform(y_pred_train)\n",
    "\n",
    "        # Calculate the RMSE score for this fold\n",
    "        rmse = np.sqrt(mean_squared_error(y_Val, y_pred_Val_inv))\n",
    "        rmse_scores.append(rmse)\n",
    "        \n",
    "        rmse_train = np.sqrt(mean_squared_error(y_train, y_pred_train_inv))\n",
    "        rmse_scores_train.append(rmse_train)\n",
    "        \n",
    "        # Add the RMSE score to the average\n",
    "        avg_rmse += rmse\n",
    "        avg_rmse_train += rmse_train\n",
    "\n",
    "    #these are the errorson the Val set of the training data\n",
    "    avg_rmse /= 6\n",
    "    rmse_list.append(rmse_scores)\n",
    "    avg_rmse_list.append(avg_rmse)\n",
    "    \n",
    "    avg_rmse_train /= 6\n",
    "    rmse_list_train.append(rmse_scores_train)\n",
    "    avg_rmse_list_train.append(avg_rmse_train)"
   ]
  },
  {
   "cell_type": "code",
   "execution_count": 9,
   "id": "f66e6589",
   "metadata": {},
   "outputs": [
    {
     "data": {
      "text/plain": [
       "[[0.08057649187788407,\n",
       "  0.0896640209339916,\n",
       "  0.06534927635710233,\n",
       "  0.12007313092893848,\n",
       "  3.67001955376365,\n",
       "  0.09618751158198205],\n",
       " [0.08057648905085303,\n",
       "  0.0896640211855899,\n",
       "  0.06534927331140948,\n",
       "  0.12007313419518717,\n",
       "  3.670019537316642,\n",
       "  0.0961875118663995],\n",
       " [0.08057606658950488,\n",
       "  0.08966405897594396,\n",
       "  0.06534882066697106,\n",
       "  0.12007361432685923,\n",
       "  3.670019568168597,\n",
       "  0.09618755503805225],\n",
       " [0.08040577416526914,\n",
       "  0.08967943465504878,\n",
       "  0.06516601520918598,\n",
       "  0.12026731944940183,\n",
       "  3.6700237850494895,\n",
       "  0.09620507257105226],\n",
       " [0.06627252951149519,\n",
       "  0.10330834861686736,\n",
       "  0.03661534615900436,\n",
       "  0.1646016246642534,\n",
       "  2.7448071963761396,\n",
       "  0.10831352358322838],\n",
       " [0.08658353022264992,\n",
       "  0.16092289466105603,\n",
       "  0.12052173112845768,\n",
       "  0.27725869992079727,\n",
       "  0.3964691293859706,\n",
       "  0.1521120979644821],\n",
       " [0.36389459089637205,\n",
       "  0.2787539094555706,\n",
       "  0.2325449124380276,\n",
       "  0.4580192155622503,\n",
       "  1.4149238395468078,\n",
       "  0.33567749781551387],\n",
       " [0.6070918307485601,\n",
       "  0.42407761955877377,\n",
       "  0.36197696064313967,\n",
       "  0.6061420443422598,\n",
       "  0.6251450745786623,\n",
       "  0.3867725168302715],\n",
       " [0.8742932097877608,\n",
       "  0.4221613210477255,\n",
       "  0.779592655020444,\n",
       "  0.4911018494151957,\n",
       "  3.520529191911753,\n",
       "  0.3267479216782184]]"
      ]
     },
     "execution_count": 9,
     "metadata": {},
     "output_type": "execute_result"
    }
   ],
   "source": [
    "rmse_list"
   ]
  },
  {
   "cell_type": "code",
   "execution_count": 10,
   "id": "62cfd07e",
   "metadata": {
    "scrolled": true
   },
   "outputs": [
    {
     "data": {
      "text/plain": [
       "[0.686978330907258,\n",
       " 0.6869783278210136,\n",
       " 0.6869782806276548,\n",
       " 0.6869579001832413,\n",
       " 0.5373197614851647,\n",
       " 0.19897801388056893,\n",
       " 0.513968994285757,\n",
       " 0.5018676744502778,\n",
       " 1.069071024810183]"
      ]
     },
     "execution_count": 10,
     "metadata": {},
     "output_type": "execute_result"
    }
   ],
   "source": [
    "avg_rmse_list"
   ]
  },
  {
   "cell_type": "markdown",
   "id": "158f2450",
   "metadata": {},
   "source": [
    "### Plotting graph 2 Avg RMSE vs λ"
   ]
  },
  {
   "cell_type": "code",
   "execution_count": 11,
   "id": "255754c3",
   "metadata": {},
   "outputs": [
    {
     "data": {
      "image/png": "[encoded data removed]",
      "text/plain": [
       "<Figure size 720x432 with 1 Axes>"
      ]
     },
     "metadata": {
      "needs_background": "light"
     },
     "output_type": "display_data"
    }
   ],
   "source": [
    "plt.figure(figsize=(10, 6))   #plotting questions?\n",
    "plt.title(\"Graph 2: Avg RMSE vs. λ\", size=16)\n",
    "\n",
    "plt.scatter(alphas, avg_rmse_list)\n",
    "plt.plot(alphas, avg_rmse_list, c=\"red\", label='CV_test')\n",
    "\n",
    "plt.scatter(alphas, avg_rmse_list_train)\n",
    "plt.plot(alphas, avg_rmse_list_train, c=\"green\", label='CV_train')\n",
    "\n",
    "plt.ylabel(\"Avg. RMSE\")\n",
    "plt.xlabel(\"λ\")\n",
    "\n",
    "plt.xscale('log')\n",
    "\n",
    "location = 0\n",
    "plt.legend()\n",
    "plt.show()"
   ]
  },
  {
   "cell_type": "code",
   "execution_count": 12,
   "id": "87358958",
   "metadata": {},
   "outputs": [
    {
     "data": {
      "text/plain": [
       "5"
      ]
     },
     "execution_count": 12,
     "metadata": {},
     "output_type": "execute_result"
    }
   ],
   "source": [
    "# print the index of alpha with the minimum avg_rsme.\n",
    "min(range(len(avg_rmse_list)), key=lambda x : avg_rmse_list[x])"
   ]
  },
  {
   "cell_type": "markdown",
   "id": "f9e386d7",
   "metadata": {},
   "source": [
    "### Training the model on train.dat using d*=6 and predict on train.dat "
   ]
  },
  {
   "cell_type": "code",
   "execution_count": 13,
   "id": "397d96e0",
   "metadata": {},
   "outputs": [],
   "source": [
    "# Standardize the Input Feature and Target Variable\n",
    "scaler = StandardScaler()\n",
    "X_train_scaled = scaler.fit_transform(X)\n",
    "y_train_scaled = scaler.transform(y)\n",
    "\n",
    "# Create polynomial features\n",
    "poly = PolynomialFeatures(degree=6)\n",
    "X_train_poly = poly.fit_transform(X_train_scaled)\n",
    "\n",
    "# Fit a linear regression model\n",
    "model_optD = Ridge(alpha=0)\n",
    "model_optD.fit(X_train_poly, y_train_scaled)\n",
    "\n",
    "# Make predictions on the train.dat and test.dat set\n",
    "y_pred_train = model_optD.predict(X_train_poly)\n",
    "y_pred_train_inv = scaler.inverse_transform(y_pred_train)\n",
    "\n",
    "rmse_train = np.sqrt(mean_squared_error(y, y_pred_train_inv))\n",
    "\n",
    "#test.dat set\n",
    "X_test_scaled = scaler.transform(X_test)\n",
    "y_test_scaled = scaler.transform(y_test)\n",
    "\n",
    "X_test_poly = poly.transform(X_test_scaled)\n",
    "\n",
    "y_pred_test = model_optD.predict(X_test_poly)\n",
    "y_pred_test_inv = scaler.inverse_transform(y_pred_test)\n",
    "\n",
    "rmse_test = np.sqrt(mean_squared_error(y_test, y_pred_test_inv))\n"
   ]
  },
  {
   "cell_type": "code",
   "execution_count": 14,
   "id": "eb7edfdf",
   "metadata": {},
   "outputs": [
    {
     "data": {
      "text/plain": [
       "0.10540106673271309"
      ]
     },
     "execution_count": 14,
     "metadata": {},
     "output_type": "execute_result"
    }
   ],
   "source": [
    "rmse_train"
   ]
  },
  {
   "cell_type": "code",
   "execution_count": 15,
   "id": "331100e7",
   "metadata": {},
   "outputs": [
    {
     "data": {
      "text/plain": [
       "0.11432570919476574"
      ]
     },
     "execution_count": 15,
     "metadata": {},
     "output_type": "execute_result"
    }
   ],
   "source": [
    "rmse_test"
   ]
  },
  {
   "cell_type": "code",
   "execution_count": 16,
   "id": "ca960c7a",
   "metadata": {},
   "outputs": [
    {
     "data": {
      "text/plain": [
       "array([[ 0.        ,  0.02770501,  0.26189729,  0.01058892, -0.22895198,\n",
       "         0.00065375,  0.04178481]])"
      ]
     },
     "execution_count": 16,
     "metadata": {},
     "output_type": "execute_result"
    }
   ],
   "source": [
    "model_optD.coef_[0:]"
   ]
  },
  {
   "cell_type": "code",
   "execution_count": 17,
   "id": "6d40127d",
   "metadata": {},
   "outputs": [
    {
     "name": "stdout",
     "output_type": "stream",
     "text": [
      "{1970: 61.9301602109299, 1971: 62.313305260093784, 1973: 63.31169403065678, 1974: 63.846422934429256, 1975: 64.36456562661374, 1976: 64.84469346786409, 1977: 65.27143763466779, 1978: 65.63473258247404, 1979: 65.92909876796557, 1980: 66.15296463045934, 1981: 66.30802783245485, 1982: 66.3986557593114, 1984: 66.4141017554166, 1986: 66.26732847249286, 1987: 66.15771273333326, 1988: 66.03730484485686, 1989: 65.91567201113548, 1991: 65.70318940258176, 1992: 65.62696386913899, 1993: 65.57838731449192, 1994: 65.56139309974219, 1996: 65.6300792633615, 1997: 65.71571013493121, 1998: 65.83284236544046, 1999: 65.97754718491228, 2000: 66.14448785309696, 2001: 66.32706608277863, 2002: 66.51760772221382, 2003: 66.70758769671352, 2004: 66.88789420935973, 2005: 67.04913220086087, 2006: 67.18196606854622, 2007: 67.27750164449503, 2008: 67.32770743281003, 2012: 66.97168336719278, 2014: 66.46023904043818, 2015: 66.14731642830861, 2017: 65.50157246873277, 2018: 65.22631739297799, 2019: 65.03409468433802, 2020: 64.97437174442598, 2021: 65.10652731293726}\n"
     ]
    }
   ],
   "source": [
    "train_dict = {}\n",
    "\n",
    "# iterate through the training feature array and predicted output array\n",
    "for i in range(df_train['Year'].shape[0]):\n",
    "    # get the training feature values for this row\n",
    "    features = df_train['Year'][i]\n",
    "    # get the predicted output value for this row\n",
    "    output = y_pred_train_inv[i][0]\n",
    "    # add this row's feature and output values to the dictionary\n",
    "    train_dict[features] = output\n",
    "    \n",
    "train_dict = dict(sorted(train_dict.items()))\n",
    "print(train_dict)"
   ]
  },
  {
   "cell_type": "markdown",
   "id": "19945aa8",
   "metadata": {},
   "source": [
    "### Plotting graph 3 using d*"
   ]
  },
  {
   "cell_type": "code",
   "execution_count": 18,
   "id": "dac68a10",
   "metadata": {
    "scrolled": false
   },
   "outputs": [
    {
     "data": {
      "image/png": "[encoded data removed]",
      "text/plain": [
       "<Figure size 720x432 with 1 Axes>"
      ]
     },
     "metadata": {
      "needs_background": "light"
     },
     "output_type": "display_data"
    }
   ],
   "source": [
    "plt.figure(figsize=(10, 6))\n",
    "plt.title(\"Graph 3 for best d(d*): Age population vs. Year)\", size=16)\n",
    "plt.scatter(arr_year, arr_population)\n",
    "plt.plot(np.array(list(train_dict.keys())), np.array(list(train_dict.values())), c=\"green\", label=\"Predicted Population on training data\")\n",
    "plt.ylabel(\"Population\")\n",
    "plt.xlabel(\"Years\")\n",
    "location = 0\n",
    "plt.legend()\n",
    "plt.show()"
   ]
  },
  {
   "cell_type": "code",
   "execution_count": 19,
   "id": "76a37f5d",
   "metadata": {},
   "outputs": [],
   "source": [
    "# Standardize the Input Feature and Target Variable\n",
    "scaler = StandardScaler()\n",
    "X_train_scaled = scaler.fit_transform(X)\n",
    "y_train_scaled = scaler.transform(y)\n",
    "\n",
    "# Create polynomial features\n",
    "poly = PolynomialFeatures(degree=12)\n",
    "X_train_poly = poly.fit_transform(X_train_scaled)\n",
    "\n",
    "# Fit a linear regression model\n",
    "model_optL = Ridge(alpha=e**-3)\n",
    "model_optL.fit(X_train_poly, y_train_scaled)\n",
    "\n",
    "# Make predictions on the test.dat set\n",
    "y_pred_train_l = model_optL.predict(X_train_poly)\n",
    "y_pred_train_inv_l = scaler.inverse_transform(y_pred_train_l)\n",
    "\n",
    "rmse_train_l = np.sqrt(mean_squared_error(y, y_pred_train_inv_l))\n",
    "\n",
    "#test.dat set\n",
    "X_test_scaled = scaler.transform(X_test)\n",
    "y_test_scaled = scaler.transform(y_test)\n",
    "\n",
    "X_test_poly = poly.transform(X_test_scaled)\n",
    "\n",
    "y_pred_test_l = model_optL.predict(X_test_poly)\n",
    "y_pred_test_inv_l = scaler.inverse_transform(y_pred_test_l)\n",
    "\n",
    "rmse_test_l = np.sqrt(mean_squared_error(y_test, y_pred_test_inv_l))"
   ]
  },
  {
   "cell_type": "code",
   "execution_count": 20,
   "id": "d05a1e9c",
   "metadata": {},
   "outputs": [
    {
     "data": {
      "text/plain": [
       "0.12755963811588483"
      ]
     },
     "execution_count": 20,
     "metadata": {},
     "output_type": "execute_result"
    }
   ],
   "source": [
    "rmse_train_l"
   ]
  },
  {
   "cell_type": "code",
   "execution_count": 21,
   "id": "c50cd9c5",
   "metadata": {},
   "outputs": [
    {
     "data": {
      "text/plain": [
       "0.12863909044517383"
      ]
     },
     "execution_count": 21,
     "metadata": {},
     "output_type": "execute_result"
    }
   ],
   "source": [
    "rmse_test_l"
   ]
  },
  {
   "cell_type": "code",
   "execution_count": 22,
   "id": "5e956497",
   "metadata": {},
   "outputs": [
    {
     "data": {
      "text/plain": [
       "array([[ 0.00000000e+00,  3.10354670e-02,  1.89229715e-01,\n",
       "         6.44582979e-03, -7.92323648e-02, -3.00615259e-04,\n",
       "        -6.47732564e-02,  1.09511371e-03,  1.82647791e-02,\n",
       "        -4.68465147e-05,  7.10722790e-03, -5.21040252e-06,\n",
       "        -2.03791326e-03]])"
      ]
     },
     "execution_count": 22,
     "metadata": {},
     "output_type": "execute_result"
    }
   ],
   "source": [
    "model_optL.coef_"
   ]
  },
  {
   "cell_type": "code",
   "execution_count": 23,
   "id": "48d5f153",
   "metadata": {},
   "outputs": [
    {
     "name": "stdout",
     "output_type": "stream",
     "text": [
      "{1970: 61.9301602109299, 1971: 62.313305260093784, 1973: 63.31169403065678, 1974: 63.846422934429256, 1975: 64.36456562661374, 1976: 64.84469346786409, 1977: 65.27143763466779, 1978: 65.63473258247404, 1979: 65.92909876796557, 1980: 66.15296463045934, 1981: 66.30802783245485, 1982: 66.3986557593114, 1984: 66.4141017554166, 1986: 66.26732847249286, 1987: 66.15771273333326, 1988: 66.03730484485686, 1989: 65.91567201113548, 1991: 65.70318940258176, 1992: 65.62696386913899, 1993: 65.57838731449192, 1994: 65.56139309974219, 1996: 65.6300792633615, 1997: 65.71571013493121, 1998: 65.83284236544046, 1999: 65.97754718491228, 2000: 66.14448785309696, 2001: 66.32706608277863, 2002: 66.51760772221382, 2003: 66.70758769671352, 2004: 66.88789420935973, 2005: 67.04913220086087, 2006: 67.18196606854622, 2007: 67.27750164449503, 2008: 67.32770743281003, 2012: 66.97168336719278, 2014: 66.46023904043818, 2015: 66.14731642830861, 2017: 65.50157246873277, 2018: 65.22631739297799, 2019: 65.03409468433802, 2020: 64.97437174442598, 2021: 65.10652731293726}\n"
     ]
    }
   ],
   "source": [
    "train_dict_l = {}\n",
    "\n",
    "# iterate through the training feature array and predicted output array\n",
    "for i in range(df_train['Year'].shape[0]):\n",
    "    # get the training feature values for this row\n",
    "    features = df_train['Year'][i]\n",
    "    # get the predicted output value for this row\n",
    "    output = y_pred_train_inv[i][0]\n",
    "    # add this row's feature and output values to the dictionary\n",
    "    train_dict_l[features] = output\n",
    "    \n",
    "train_dict_l = dict(sorted(train_dict_l.items()))\n",
    "print(train_dict_l)"
   ]
  },
  {
   "attachments": {},
   "cell_type": "markdown",
   "id": "b5b5b5bd",
   "metadata": {},
   "source": [
    "### Plotting graph 4 using λ*"
   ]
  },
  {
   "cell_type": "code",
   "execution_count": 24,
   "id": "35898886",
   "metadata": {},
   "outputs": [
    {
     "data": {
      "image/png": "[encoded data removed]",
      "text/plain": [
       "<Figure size 720x432 with 1 Axes>"
      ]
     },
     "metadata": {
      "needs_background": "light"
     },
     "output_type": "display_data"
    }
   ],
   "source": [
    "plt.figure(figsize=(10, 6))\n",
    "plt.title(\"Graph 4 for best Lambda: Age population vs. Year)\", size=16)\n",
    "plt.scatter(arr_year, arr_population)\n",
    "\n",
    "plt.plot(np.array(list(train_dict_l.keys())), np.array(list(train_dict_l.values())), c=\"orange\", label=\"Predicted Population on training data\")\n",
    "plt.ylabel(\"Population\")\n",
    "plt.xlabel(\"Year\")\n",
    "location = 0\n",
    "plt.legend()\n",
    "plt.show()"
   ]
  },
  {
   "cell_type": "code",
   "execution_count": null,
   "id": "979df563",
   "metadata": {},
   "outputs": [],
   "source": []
  }
 ],
 "metadata": {
  "kernelspec": {
   "display_name": "Python 3 (ipykernel)",
   "language": "python",
   "name": "python3"
  },
  "language_info": {
   "codemirror_mode": {
    "name": "ipython",
    "version": 3
   },
   "file_extension": ".py",
   "mimetype": "text/x-python",
   "name": "python",
   "nbconvert_exporter": "python",
   "pygments_lexer": "ipython3",
   "version": "3.9.12"
  }
 },
 "nbformat": 4,
 "nbformat_minor": 5
}
